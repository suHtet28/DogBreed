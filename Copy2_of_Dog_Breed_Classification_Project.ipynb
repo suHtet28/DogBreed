{
  "cells": [
    {
      "cell_type": "markdown",
      "metadata": {
        "id": "view-in-github",
        "colab_type": "text"
      },
      "source": [
        "<a href=\"https://colab.research.google.com/github/suHtet28/DogBreed/blob/main/Copy2_of_Dog_Breed_Classification_Project.ipynb\" target=\"_parent\"><img src=\"https://colab.research.google.com/assets/colab-badge.svg\" alt=\"Open In Colab\"/></a>"
      ]
    },
    {
      "cell_type": "code",
      "source": [
        "!pip install lime"
      ],
      "metadata": {
        "id": "_GyxPcGOUDef"
      },
      "execution_count": null,
      "outputs": []
    },
    {
      "cell_type": "code",
      "execution_count": null,
      "metadata": {
        "id": "hEp18TRC2kZr"
      },
      "outputs": [],
      "source": [
        "import os\n",
        "from lime import lime_image\n",
        "from lime.wrappers.scikit_image import SegmentationAlgorithm\n",
        "import numpy as np\n",
        "import matplotlib.pyplot as plt\n",
        "import tensorflow as tf\n",
        "from google.colab import drive\n",
        "from tensorflow.keras.preprocessing.image import ImageDataGenerator\n",
        "from tensorflow.keras.models import Sequential\n",
        "from tensorflow.keras.layers import Conv2D, MaxPooling2D, Flatten, Dense, Dropout\n",
        "from tensorflow.keras.applications.mobilenet_v2 import MobileNetV2, preprocess_input\n",
        "from tensorflow.keras import layers, models"
      ]
    },
    {
      "cell_type": "markdown",
      "metadata": {
        "id": "QwP63LX83_lW"
      },
      "source": [
        "## 2. Data Understanding"
      ]
    },
    {
      "cell_type": "code",
      "execution_count": null,
      "metadata": {
        "id": "8v2-yvko33pI",
        "colab": {
          "base_uri": "https://localhost:8080/"
        },
        "outputId": "57efb4ea-0f18-4bcc-b2dc-072b6ffe58d0"
      },
      "outputs": [
        {
          "output_type": "stream",
          "name": "stdout",
          "text": [
            "Found GPU at: /device:GPU:0\n"
          ]
        }
      ],
      "source": [
        "device_name     = tf.test.gpu_device_name()\n",
        "\n",
        "if device_name != '/device:GPU:0':\n",
        "  raise SystemError('GPU device not found')\n",
        "\n",
        "print('Found GPU at: {}'.format(device_name))"
      ]
    },
    {
      "cell_type": "code",
      "execution_count": null,
      "metadata": {
        "id": "NHp7dWwH4JXi",
        "colab": {
          "base_uri": "https://localhost:8080/"
        },
        "outputId": "7df9ec80-9bb4-4f0d-cfca-f35a04c5eddb"
      },
      "outputs": [
        {
          "output_type": "stream",
          "name": "stdout",
          "text": [
            "Mounted at /content/drive\n"
          ]
        }
      ],
      "source": [
        "from google.colab import drive\n",
        "drive.mount('/content/drive')"
      ]
    },
    {
      "cell_type": "code",
      "execution_count": null,
      "metadata": {
        "id": "--0JHDsC4ObL"
      },
      "outputs": [],
      "source": [
        "train_dir='/content/drive/MyDrive/Dog Breed Classification2/Train'\n",
        "test_dir='/content/drive/MyDrive/Dog Breed Classification2/Test'"
      ]
    },
    {
      "cell_type": "code",
      "execution_count": null,
      "metadata": {
        "id": "z2sWrNnX7_M7"
      },
      "outputs": [],
      "source": [
        "os.listdir(train_dir+\"/Corgi\")"
      ]
    },
    {
      "cell_type": "code",
      "execution_count": null,
      "metadata": {
        "id": "EHDYZW_Ro3d5"
      },
      "outputs": [],
      "source": [
        "os.listdir(test_dir+\"/Pomeranian\")"
      ]
    },
    {
      "cell_type": "markdown",
      "metadata": {
        "id": "4pIoNWgVraTZ"
      },
      "source": [
        "## 3. Data Preprocessing\n",
        "\n"
      ]
    },
    {
      "cell_type": "code",
      "source": [
        "IMG_SIZE = (224, 224)\n",
        "BATCH_SIZE = 32"
      ],
      "metadata": {
        "id": "dPSsPfxDdQWx"
      },
      "execution_count": null,
      "outputs": []
    },
    {
      "cell_type": "code",
      "execution_count": null,
      "metadata": {
        "id": "hunxr7ueAytE"
      },
      "outputs": [],
      "source": [
        "train_datagen = ImageDataGenerator(\n",
        "    rotation_range=20,\n",
        "    width_shift_range=0.2,\n",
        "    height_shift_range=0.2,\n",
        "    shear_range=0.2,\n",
        "    zoom_range=0.2,\n",
        "    horizontal_flip=True,\n",
        "    fill_mode='nearest',\n",
        "    preprocessing_function=preprocess_input\n",
        ")\n",
        "\n",
        "test_datagen = ImageDataGenerator(\n",
        "    rotation_range=20,\n",
        "    width_shift_range=0.2,\n",
        "    height_shift_range=0.2,\n",
        "    shear_range=0.2,\n",
        "    zoom_range=0.2,\n",
        "    horizontal_flip=True,\n",
        "    fill_mode='nearest',\n",
        "    preprocessing_function=preprocess_input\n",
        ")"
      ]
    },
    {
      "cell_type": "code",
      "source": [
        "train_set = train_datagen.flow_from_directory(\n",
        "    train_dir,\n",
        "    target_size=IMG_SIZE,\n",
        "    batch_size=BATCH_SIZE,\n",
        "    class_mode='categorical',\n",
        "    shuffle = True\n",
        ")\n",
        "\n",
        "test_set = test_datagen.flow_from_directory(\n",
        "    test_dir,\n",
        "    target_size=IMG_SIZE,\n",
        "    batch_size=BATCH_SIZE,\n",
        "    class_mode='categorical',\n",
        "    shuffle = False\n",
        ")"
      ],
      "metadata": {
        "id": "MgBw7u2bdVnB"
      },
      "execution_count": null,
      "outputs": []
    },
    {
      "cell_type": "markdown",
      "metadata": {
        "id": "R1svcIvwwAw-"
      },
      "source": [
        "## 4. Modeling"
      ]
    },
    {
      "cell_type": "code",
      "source": [
        "base_model = MobileNetV2(weights='imagenet', include_top=False, input_shape=(224, 224, 3))\n",
        "base_model.trainable = False"
      ],
      "metadata": {
        "id": "niRlJ443dZsJ"
      },
      "execution_count": null,
      "outputs": []
    },
    {
      "cell_type": "code",
      "execution_count": null,
      "metadata": {
        "id": "5IbsfSPFC29x"
      },
      "outputs": [],
      "source": [
        "model = models.Sequential([\n",
        "    base_model,\n",
        "    layers.GlobalAveragePooling2D(),\n",
        "    layers.Dense(256, activation='relu'),\n",
        "    layers.Dropout(0.5),\n",
        "    layers.Dense(train_set.num_classes, activation='softmax')\n",
        "])"
      ]
    },
    {
      "cell_type": "code",
      "execution_count": null,
      "metadata": {
        "id": "ZP3kxChcxNm9"
      },
      "outputs": [],
      "source": [
        "model.compile(optimizer='adam', loss='categorical_crossentropy', metrics=['accuracy'])"
      ]
    },
    {
      "cell_type": "code",
      "execution_count": null,
      "metadata": {
        "id": "c7gLF_1R0OxN",
        "colab": {
          "base_uri": "https://localhost:8080/"
        },
        "outputId": "c7eba28f-f960-4496-e6e5-72d14c08eace"
      },
      "outputs": [
        {
          "output_type": "stream",
          "name": "stdout",
          "text": [
            "Model: \"sequential\"\n",
            "_________________________________________________________________\n",
            " Layer (type)                Output Shape              Param #   \n",
            "=================================================================\n",
            " mobilenetv2_1.00_224 (Func  (None, 7, 7, 1280)        2257984   \n",
            " tional)                                                         \n",
            "                                                                 \n",
            " global_average_pooling2d (  (None, 1280)              0         \n",
            " GlobalAveragePooling2D)                                         \n",
            "                                                                 \n",
            " dense (Dense)               (None, 256)               327936    \n",
            "                                                                 \n",
            " dropout (Dropout)           (None, 256)               0         \n",
            "                                                                 \n",
            " dense_1 (Dense)             (None, 13)                3341      \n",
            "                                                                 \n",
            "=================================================================\n",
            "Total params: 2589261 (9.88 MB)\n",
            "Trainable params: 331277 (1.26 MB)\n",
            "Non-trainable params: 2257984 (8.61 MB)\n",
            "_________________________________________________________________\n"
          ]
        }
      ],
      "source": [
        "model.summary()"
      ]
    },
    {
      "cell_type": "code",
      "source": [
        "model.fit(train_set,\n",
        "          epochs=100,\n",
        "          verbose=2,\n",
        "          shuffle = False)"
      ],
      "metadata": {
        "colab": {
          "base_uri": "https://localhost:8080/"
        },
        "id": "Yuv3F9MvW8fq",
        "outputId": "d9673ecf-a3d5-41f6-8897-05615f5113b9"
      },
      "execution_count": null,
      "outputs": [
        {
          "metadata": {
            "tags": null
          },
          "name": "stdout",
          "output_type": "stream",
          "text": [
            "Epoch 1/100\n"
          ]
        },
        {
          "metadata": {
            "tags": null
          },
          "name": "stderr",
          "output_type": "stream",
          "text": [
            "/usr/local/lib/python3.10/dist-packages/PIL/Image.py:996: UserWarning: Palette images with Transparency expressed in bytes should be converted to RGBA images\n",
            "  warnings.warn(\n"
          ]
        },
        {
          "output_type": "stream",
          "name": "stdout",
          "text": [
            "3/3 - 14s - loss: 2.7200 - accuracy: 0.1644 - 14s/epoch - 5s/step\n",
            "Epoch 2/100\n",
            "3/3 - 2s - loss: 1.4615 - accuracy: 0.6301 - 2s/epoch - 524ms/step\n",
            "Epoch 3/100\n",
            "3/3 - 2s - loss: 0.7462 - accuracy: 0.8493 - 2s/epoch - 543ms/step\n",
            "Epoch 4/100\n",
            "3/3 - 2s - loss: 0.3651 - accuracy: 0.9178 - 2s/epoch - 521ms/step\n",
            "Epoch 5/100\n",
            "3/3 - 2s - loss: 0.2201 - accuracy: 0.9726 - 2s/epoch - 717ms/step\n",
            "Epoch 6/100\n",
            "3/3 - 3s - loss: 0.1468 - accuracy: 0.9452 - 3s/epoch - 838ms/step\n",
            "Epoch 7/100\n",
            "3/3 - 2s - loss: 0.0745 - accuracy: 0.9863 - 2s/epoch - 553ms/step\n",
            "Epoch 8/100\n",
            "3/3 - 2s - loss: 0.0464 - accuracy: 0.9863 - 2s/epoch - 529ms/step\n",
            "Epoch 9/100\n",
            "3/3 - 2s - loss: 0.0524 - accuracy: 0.9863 - 2s/epoch - 526ms/step\n",
            "Epoch 10/100\n",
            "3/3 - 2s - loss: 0.1301 - accuracy: 0.9726 - 2s/epoch - 539ms/step\n",
            "Epoch 11/100\n",
            "3/3 - 2s - loss: 0.0167 - accuracy: 1.0000 - 2s/epoch - 524ms/step\n",
            "Epoch 12/100\n",
            "3/3 - 2s - loss: 0.0235 - accuracy: 1.0000 - 2s/epoch - 589ms/step\n",
            "Epoch 13/100\n",
            "3/3 - 3s - loss: 0.0171 - accuracy: 1.0000 - 3s/epoch - 838ms/step\n",
            "Epoch 14/100\n",
            "3/3 - 2s - loss: 0.0567 - accuracy: 0.9863 - 2s/epoch - 570ms/step\n",
            "Epoch 15/100\n",
            "3/3 - 2s - loss: 0.0253 - accuracy: 1.0000 - 2s/epoch - 526ms/step\n",
            "Epoch 16/100\n",
            "3/3 - 2s - loss: 0.0271 - accuracy: 1.0000 - 2s/epoch - 533ms/step\n",
            "Epoch 17/100\n",
            "3/3 - 2s - loss: 0.0324 - accuracy: 0.9863 - 2s/epoch - 526ms/step\n",
            "Epoch 18/100\n",
            "3/3 - 2s - loss: 0.0807 - accuracy: 0.9726 - 2s/epoch - 523ms/step\n",
            "Epoch 19/100\n",
            "3/3 - 2s - loss: 0.0239 - accuracy: 0.9863 - 2s/epoch - 562ms/step\n",
            "Epoch 20/100\n",
            "3/3 - 2s - loss: 0.0201 - accuracy: 1.0000 - 2s/epoch - 814ms/step\n",
            "Epoch 21/100\n",
            "3/3 - 2s - loss: 0.0206 - accuracy: 1.0000 - 2s/epoch - 572ms/step\n",
            "Epoch 22/100\n",
            "3/3 - 2s - loss: 0.0283 - accuracy: 0.9863 - 2s/epoch - 537ms/step\n",
            "Epoch 23/100\n",
            "3/3 - 2s - loss: 0.0198 - accuracy: 1.0000 - 2s/epoch - 525ms/step\n",
            "Epoch 24/100\n",
            "3/3 - 2s - loss: 0.0188 - accuracy: 1.0000 - 2s/epoch - 522ms/step\n",
            "Epoch 25/100\n",
            "3/3 - 2s - loss: 0.0052 - accuracy: 1.0000 - 2s/epoch - 564ms/step\n",
            "Epoch 26/100\n",
            "3/3 - 2s - loss: 0.0155 - accuracy: 1.0000 - 2s/epoch - 579ms/step\n",
            "Epoch 27/100\n",
            "3/3 - 2s - loss: 0.0093 - accuracy: 1.0000 - 2s/epoch - 806ms/step\n",
            "Epoch 28/100\n",
            "3/3 - 2s - loss: 0.0042 - accuracy: 1.0000 - 2s/epoch - 563ms/step\n",
            "Epoch 29/100\n",
            "3/3 - 2s - loss: 0.0138 - accuracy: 1.0000 - 2s/epoch - 526ms/step\n",
            "Epoch 30/100\n",
            "3/3 - 2s - loss: 0.0299 - accuracy: 0.9863 - 2s/epoch - 509ms/step\n",
            "Epoch 31/100\n",
            "3/3 - 2s - loss: 0.0034 - accuracy: 1.0000 - 2s/epoch - 517ms/step\n",
            "Epoch 32/100\n",
            "3/3 - 2s - loss: 0.0115 - accuracy: 1.0000 - 2s/epoch - 506ms/step\n",
            "Epoch 33/100\n",
            "3/3 - 2s - loss: 0.0095 - accuracy: 1.0000 - 2s/epoch - 508ms/step\n",
            "Epoch 34/100\n",
            "3/3 - 2s - loss: 0.0071 - accuracy: 1.0000 - 2s/epoch - 644ms/step\n",
            "Epoch 35/100\n",
            "3/3 - 2s - loss: 0.0097 - accuracy: 1.0000 - 2s/epoch - 820ms/step\n",
            "Epoch 36/100\n",
            "3/3 - 2s - loss: 0.0062 - accuracy: 1.0000 - 2s/epoch - 531ms/step\n",
            "Epoch 37/100\n",
            "3/3 - 2s - loss: 0.0022 - accuracy: 1.0000 - 2s/epoch - 508ms/step\n",
            "Epoch 38/100\n",
            "3/3 - 2s - loss: 0.0074 - accuracy: 1.0000 - 2s/epoch - 522ms/step\n",
            "Epoch 39/100\n",
            "3/3 - 2s - loss: 0.0041 - accuracy: 1.0000 - 2s/epoch - 528ms/step\n",
            "Epoch 40/100\n",
            "3/3 - 2s - loss: 0.0063 - accuracy: 1.0000 - 2s/epoch - 528ms/step\n",
            "Epoch 41/100\n",
            "3/3 - 2s - loss: 0.0035 - accuracy: 1.0000 - 2s/epoch - 530ms/step\n",
            "Epoch 42/100\n",
            "3/3 - 2s - loss: 0.0020 - accuracy: 1.0000 - 2s/epoch - 740ms/step\n",
            "Epoch 43/100\n",
            "3/3 - 2s - loss: 0.0041 - accuracy: 1.0000 - 2s/epoch - 830ms/step\n",
            "Epoch 44/100\n",
            "3/3 - 2s - loss: 0.0074 - accuracy: 1.0000 - 2s/epoch - 616ms/step\n",
            "Epoch 45/100\n",
            "3/3 - 2s - loss: 0.0021 - accuracy: 1.0000 - 2s/epoch - 530ms/step\n",
            "Epoch 46/100\n",
            "3/3 - 2s - loss: 0.0025 - accuracy: 1.0000 - 2s/epoch - 524ms/step\n",
            "Epoch 47/100\n",
            "3/3 - 2s - loss: 0.0039 - accuracy: 1.0000 - 2s/epoch - 521ms/step\n",
            "Epoch 48/100\n",
            "3/3 - 2s - loss: 0.0022 - accuracy: 1.0000 - 2s/epoch - 509ms/step\n",
            "Epoch 49/100\n",
            "3/3 - 2s - loss: 0.0052 - accuracy: 1.0000 - 2s/epoch - 731ms/step\n",
            "Epoch 50/100\n",
            "3/3 - 2s - loss: 0.0036 - accuracy: 1.0000 - 2s/epoch - 730ms/step\n",
            "Epoch 51/100\n",
            "3/3 - 2s - loss: 0.0185 - accuracy: 1.0000 - 2s/epoch - 529ms/step\n",
            "Epoch 52/100\n",
            "3/3 - 2s - loss: 0.0558 - accuracy: 0.9863 - 2s/epoch - 519ms/step\n",
            "Epoch 53/100\n",
            "3/3 - 2s - loss: 0.0021 - accuracy: 1.0000 - 2s/epoch - 517ms/step\n",
            "Epoch 54/100\n",
            "3/3 - 2s - loss: 0.0023 - accuracy: 1.0000 - 2s/epoch - 529ms/step\n",
            "Epoch 55/100\n",
            "3/3 - 2s - loss: 0.0025 - accuracy: 1.0000 - 2s/epoch - 594ms/step\n",
            "Epoch 56/100\n",
            "3/3 - 2s - loss: 0.0110 - accuracy: 1.0000 - 2s/epoch - 742ms/step\n",
            "Epoch 57/100\n",
            "3/3 - 2s - loss: 0.0023 - accuracy: 1.0000 - 2s/epoch - 535ms/step\n",
            "Epoch 58/100\n",
            "3/3 - 2s - loss: 0.0015 - accuracy: 1.0000 - 2s/epoch - 526ms/step\n",
            "Epoch 59/100\n",
            "3/3 - 2s - loss: 0.0046 - accuracy: 1.0000 - 2s/epoch - 531ms/step\n",
            "Epoch 60/100\n",
            "3/3 - 2s - loss: 0.0052 - accuracy: 1.0000 - 2s/epoch - 528ms/step\n",
            "Epoch 61/100\n",
            "3/3 - 2s - loss: 0.0099 - accuracy: 1.0000 - 2s/epoch - 605ms/step\n",
            "Epoch 62/100\n",
            "3/3 - 2s - loss: 0.0088 - accuracy: 1.0000 - 2s/epoch - 763ms/step\n",
            "Epoch 63/100\n",
            "3/3 - 2s - loss: 0.0181 - accuracy: 0.9863 - 2s/epoch - 516ms/step\n",
            "Epoch 64/100\n",
            "3/3 - 2s - loss: 0.0047 - accuracy: 1.0000 - 2s/epoch - 522ms/step\n",
            "Epoch 65/100\n",
            "3/3 - 2s - loss: 0.0021 - accuracy: 1.0000 - 2s/epoch - 528ms/step\n",
            "Epoch 66/100\n",
            "3/3 - 2s - loss: 0.0033 - accuracy: 1.0000 - 2s/epoch - 538ms/step\n",
            "Epoch 67/100\n",
            "3/3 - 2s - loss: 0.0050 - accuracy: 1.0000 - 2s/epoch - 522ms/step\n",
            "Epoch 68/100\n",
            "3/3 - 2s - loss: 0.0015 - accuracy: 1.0000 - 2s/epoch - 680ms/step\n",
            "Epoch 69/100\n",
            "3/3 - 2s - loss: 0.0027 - accuracy: 1.0000 - 2s/epoch - 718ms/step\n",
            "Epoch 70/100\n",
            "3/3 - 2s - loss: 0.0036 - accuracy: 1.0000 - 2s/epoch - 540ms/step\n",
            "Epoch 71/100\n",
            "3/3 - 2s - loss: 0.0078 - accuracy: 1.0000 - 2s/epoch - 520ms/step\n",
            "Epoch 72/100\n",
            "3/3 - 2s - loss: 0.0019 - accuracy: 1.0000 - 2s/epoch - 548ms/step\n",
            "Epoch 73/100\n",
            "3/3 - 2s - loss: 0.0024 - accuracy: 1.0000 - 2s/epoch - 537ms/step\n",
            "Epoch 74/100\n",
            "3/3 - 2s - loss: 0.0014 - accuracy: 1.0000 - 2s/epoch - 677ms/step\n",
            "Epoch 75/100\n",
            "3/3 - 2s - loss: 0.0167 - accuracy: 0.9863 - 2s/epoch - 731ms/step\n",
            "Epoch 76/100\n",
            "3/3 - 2s - loss: 9.6922e-04 - accuracy: 1.0000 - 2s/epoch - 533ms/step\n",
            "Epoch 77/100\n",
            "3/3 - 2s - loss: 0.0086 - accuracy: 1.0000 - 2s/epoch - 530ms/step\n",
            "Epoch 78/100\n",
            "3/3 - 2s - loss: 0.0110 - accuracy: 1.0000 - 2s/epoch - 526ms/step\n",
            "Epoch 79/100\n",
            "3/3 - 2s - loss: 0.0043 - accuracy: 1.0000 - 2s/epoch - 524ms/step\n",
            "Epoch 80/100\n",
            "3/3 - 2s - loss: 0.0311 - accuracy: 0.9863 - 2s/epoch - 525ms/step\n",
            "Epoch 81/100\n",
            "3/3 - 2s - loss: 0.0035 - accuracy: 1.0000 - 2s/epoch - 567ms/step\n",
            "Epoch 82/100\n",
            "3/3 - 3s - loss: 0.0032 - accuracy: 1.0000 - 3s/epoch - 844ms/step\n",
            "Epoch 83/100\n",
            "3/3 - 2s - loss: 0.0020 - accuracy: 1.0000 - 2s/epoch - 528ms/step\n",
            "Epoch 84/100\n",
            "3/3 - 2s - loss: 0.0032 - accuracy: 1.0000 - 2s/epoch - 514ms/step\n",
            "Epoch 85/100\n",
            "3/3 - 2s - loss: 0.0019 - accuracy: 1.0000 - 2s/epoch - 523ms/step\n",
            "Epoch 86/100\n",
            "3/3 - 2s - loss: 0.0037 - accuracy: 1.0000 - 2s/epoch - 530ms/step\n",
            "Epoch 87/100\n",
            "3/3 - 2s - loss: 0.0030 - accuracy: 1.0000 - 2s/epoch - 529ms/step\n",
            "Epoch 88/100\n",
            "3/3 - 3s - loss: 0.0052 - accuracy: 1.0000 - 3s/epoch - 848ms/step\n",
            "Epoch 89/100\n",
            "3/3 - 2s - loss: 0.0018 - accuracy: 1.0000 - 2s/epoch - 700ms/step\n",
            "Epoch 90/100\n",
            "3/3 - 2s - loss: 9.3565e-04 - accuracy: 1.0000 - 2s/epoch - 545ms/step\n",
            "Epoch 91/100\n",
            "3/3 - 2s - loss: 0.0051 - accuracy: 1.0000 - 2s/epoch - 532ms/step\n",
            "Epoch 92/100\n",
            "3/3 - 2s - loss: 0.0019 - accuracy: 1.0000 - 2s/epoch - 523ms/step\n",
            "Epoch 93/100\n",
            "3/3 - 2s - loss: 0.0011 - accuracy: 1.0000 - 2s/epoch - 521ms/step\n",
            "Epoch 94/100\n",
            "3/3 - 2s - loss: 0.0012 - accuracy: 1.0000 - 2s/epoch - 530ms/step\n",
            "Epoch 95/100\n",
            "3/3 - 2s - loss: 0.0046 - accuracy: 1.0000 - 2s/epoch - 685ms/step\n",
            "Epoch 96/100\n",
            "3/3 - 2s - loss: 0.0068 - accuracy: 1.0000 - 2s/epoch - 815ms/step\n",
            "Epoch 97/100\n",
            "3/3 - 2s - loss: 0.0046 - accuracy: 1.0000 - 2s/epoch - 524ms/step\n",
            "Epoch 98/100\n",
            "3/3 - 2s - loss: 8.8752e-04 - accuracy: 1.0000 - 2s/epoch - 530ms/step\n",
            "Epoch 99/100\n",
            "3/3 - 2s - loss: 7.2296e-04 - accuracy: 1.0000 - 2s/epoch - 516ms/step\n",
            "Epoch 100/100\n",
            "3/3 - 2s - loss: 5.9672e-04 - accuracy: 1.0000 - 2s/epoch - 544ms/step\n"
          ]
        },
        {
          "output_type": "execute_result",
          "data": {
            "text/plain": [
              "<keras.src.callbacks.History at 0x7fbe7021d8a0>"
            ]
          },
          "metadata": {},
          "execution_count": 18
        }
      ]
    },
    {
      "cell_type": "markdown",
      "metadata": {
        "id": "HEWaMwnQ3fxV"
      },
      "source": [
        "## 5. Evaluation"
      ]
    },
    {
      "cell_type": "code",
      "execution_count": null,
      "metadata": {
        "id": "l0DFcyLZ37bR",
        "colab": {
          "base_uri": "https://localhost:8080/"
        },
        "outputId": "a2b8e9c7-56d1-4a7f-8bc6-95171c924457"
      },
      "outputs": [
        {
          "output_type": "stream",
          "name": "stdout",
          "text": [
            "Labels dictionary {'Beagle': 0, 'Bernese Mountain Dog': 1, 'Chihuahua': 2, 'Corgi': 3, 'Dalmatian': 4, 'Doberman': 5, 'German Shepherd': 6, 'Golden Retriver': 7, 'Pomeranian': 8, 'Poodle': 9, 'Pug': 10, 'Rottweiler': 11, 'Siberian Husky': 12}\n"
          ]
        }
      ],
      "source": [
        "class_dictionary = test_set.class_indices\n",
        "print('Labels dictionary',class_dictionary)"
      ]
    },
    {
      "cell_type": "code",
      "execution_count": null,
      "metadata": {
        "id": "99JycZ43_uYQ",
        "colab": {
          "base_uri": "https://localhost:8080/"
        },
        "outputId": "4f830251-df0f-4f03-b566-c1a2a8d76c88"
      },
      "outputs": [
        {
          "output_type": "stream",
          "name": "stdout",
          "text": [
            "3/3 [==============================] - 13s 6s/step\n"
          ]
        }
      ],
      "source": [
        "y_predicted = model.predict(test_set)"
      ]
    },
    {
      "cell_type": "code",
      "execution_count": null,
      "metadata": {
        "id": "hxco9HjJBjWB"
      },
      "outputs": [],
      "source": [
        "y_predicted"
      ]
    },
    {
      "cell_type": "code",
      "execution_count": null,
      "metadata": {
        "id": "SijWQZZ4DwNJ"
      },
      "outputs": [],
      "source": [
        "y_pred = []\n",
        "for i in y_predicted:\n",
        "  y_pred.append(np.argmax(i))"
      ]
    },
    {
      "cell_type": "code",
      "execution_count": null,
      "metadata": {
        "id": "BfBpncW0EDra"
      },
      "outputs": [],
      "source": [
        "y_pred"
      ]
    },
    {
      "cell_type": "code",
      "execution_count": null,
      "metadata": {
        "id": "05WvuZEDEPm0"
      },
      "outputs": [],
      "source": [
        "y_test = test_set.classes.tolist()\n",
        "y_test"
      ]
    },
    {
      "cell_type": "code",
      "execution_count": null,
      "metadata": {
        "id": "ANmTxs--E0aw",
        "colab": {
          "base_uri": "https://localhost:8080/"
        },
        "outputId": "26b888cf-529b-4818-f724-7e2b8790eb83"
      },
      "outputs": [
        {
          "output_type": "stream",
          "name": "stdout",
          "text": [
            "confusion_matrix\n",
            "[[5 0 0 0 0 0 0 0 0 0 0 0 0]\n",
            " [0 5 0 0 0 0 0 0 0 0 0 0 0]\n",
            " [0 0 3 2 0 0 0 0 0 0 0 0 0]\n",
            " [0 0 0 5 0 0 0 0 0 0 0 0 0]\n",
            " [0 0 0 0 5 0 0 0 0 0 0 0 0]\n",
            " [0 0 0 0 0 4 0 0 0 0 0 1 0]\n",
            " [0 0 0 0 0 0 5 0 0 0 0 0 0]\n",
            " [0 0 0 0 0 0 0 5 0 0 0 0 0]\n",
            " [0 0 0 0 0 0 0 0 9 0 0 0 0]\n",
            " [0 0 0 0 0 0 0 1 0 9 0 0 0]\n",
            " [0 0 0 0 0 0 0 0 0 0 6 0 0]\n",
            " [0 0 0 0 0 0 0 0 0 0 0 5 0]\n",
            " [0 0 0 0 0 0 0 0 0 0 0 0 5]]\n"
          ]
        }
      ],
      "source": [
        "#Confusion Matrix\n",
        "from sklearn.metrics import confusion_matrix\n",
        "confusion_matrix = confusion_matrix(y_test,y_pred)\n",
        "print('confusion_matrix')\n",
        "print(confusion_matrix)"
      ]
    },
    {
      "cell_type": "code",
      "execution_count": null,
      "metadata": {
        "id": "CKJU4ZACFCnq",
        "colab": {
          "base_uri": "https://localhost:8080/"
        },
        "outputId": "1a4f0fbf-7d3d-4bb0-9f73-8088def886fd"
      },
      "outputs": [
        {
          "output_type": "stream",
          "name": "stdout",
          "text": [
            "Accuracy Score 94.66666666666667 %\n",
            "Precision Macro Score  95.23809523809524 %\n",
            "Recall_Score 94.61538461538463 %\n",
            "F1_Score 94.1367112419744 %\n"
          ]
        }
      ],
      "source": [
        "from sklearn.metrics import accuracy_score, precision_score, f1_score, recall_score\n",
        "print('Accuracy Score',accuracy_score(y_test,y_pred)*100,'%')\n",
        "print('Precision Macro Score ',precision_score(y_test,y_pred,average = 'macro')*100,'%')\n",
        "print('Recall_Score',recall_score(y_test,y_pred, average = 'macro')*100,'%')\n",
        "print('F1_Score',f1_score(y_test,y_pred, average = 'macro')*100,'%')"
      ]
    },
    {
      "cell_type": "markdown",
      "source": [
        "## 6. LIME Explanation"
      ],
      "metadata": {
        "id": "Pb9fcLF_WB_9"
      }
    },
    {
      "cell_type": "code",
      "source": [
        "from tensorflow.keras.preprocessing import image\n",
        "\n",
        "img_path='/content/drive/MyDrive/Dog Breed Classification2/Test/Corgi/Corgi test2.jpg'\n",
        "specific_img= image.load_img(img_path, target_size=(224, 224, 3))"
      ],
      "metadata": {
        "id": "E3W2wglaWBsp"
      },
      "execution_count": null,
      "outputs": []
    },
    {
      "cell_type": "code",
      "source": [
        "def predict_fn(images):\n",
        "  preprocessed_images = np.array([image.img_to_array(img) for img in images]) / 255.0\n",
        "  return model.predict(preprocessed_images)"
      ],
      "metadata": {
        "id": "DBFteIkVWYbp"
      },
      "execution_count": null,
      "outputs": []
    },
    {
      "cell_type": "code",
      "source": [
        "explainer =lime_image.LimeImageExplainer()"
      ],
      "metadata": {
        "id": "xnhTL9fKWeHV"
      },
      "execution_count": null,
      "outputs": []
    },
    {
      "cell_type": "code",
      "source": [
        "segmenter = SegmentationAlgorithm('quickshift', kernel_size=4, max_dis=150, ratio=0.2)"
      ],
      "metadata": {
        "id": "8utUaZ0edrzO"
      },
      "execution_count": null,
      "outputs": []
    },
    {
      "cell_type": "code",
      "source": [
        "explanation = explainer.explain_instance(\n",
        "    np.array(specific_img),\n",
        "    predict_fn,\n",
        "    top_labels = 5,\n",
        "    hide_color = 0,\n",
        "    num_samples = 100,\n",
        "    segmentation_fn = segmenter\n",
        ")"
      ],
      "metadata": {
        "id": "EmnDHpnsYONS",
        "colab": {
          "base_uri": "https://localhost:8080/",
          "height": 223,
          "referenced_widgets": [
            "3847e7d6bfe347969cddd5fec9998707",
            "7451476f7f4d42b3a957750df2ec9abd",
            "328a5de246a84d40af8cd837d929ef29",
            "e939b5a963eb45fd9bd12374fba76129",
            "622dd6f67346415b934f849b0c6fcdf3",
            "1f6be5a6c24d403a888b920d67ce8d0e",
            "2f980b65a0124ca69a1974d7857e7af0",
            "fb6372dd49b14a07bd35e8556c11d5bc",
            "dbe9eaca1d6744b1b084d9e59860c5ac",
            "6bd32e2c26254c7e9d40dae09860538f",
            "454e7384dc3d41a7b52c3f7c41f6b18b"
          ]
        },
        "outputId": "53943bb7-46fa-4ced-d08f-e13c020ac5cf"
      },
      "execution_count": null,
      "outputs": [
        {
          "output_type": "display_data",
          "data": {
            "text/plain": [
              "  0%|          | 0/100 [00:00<?, ?it/s]"
            ],
            "application/vnd.jupyter.widget-view+json": {
              "version_major": 2,
              "version_minor": 0,
              "model_id": "3847e7d6bfe347969cddd5fec9998707"
            }
          },
          "metadata": {}
        },
        {
          "output_type": "stream",
          "name": "stdout",
          "text": [
            "1/1 [==============================] - 2s 2s/step\n",
            "1/1 [==============================] - 0s 29ms/step\n",
            "1/1 [==============================] - 0s 25ms/step\n",
            "1/1 [==============================] - 0s 25ms/step\n",
            "1/1 [==============================] - 0s 24ms/step\n",
            "1/1 [==============================] - 0s 25ms/step\n",
            "1/1 [==============================] - 0s 25ms/step\n",
            "1/1 [==============================] - 0s 25ms/step\n",
            "1/1 [==============================] - 0s 24ms/step\n",
            "1/1 [==============================] - 0s 26ms/step\n"
          ]
        }
      ]
    },
    {
      "cell_type": "code",
      "source": [
        "from skimage.segmentation import mark_boundaries\n",
        "import matplotlib.pyplot as plt"
      ],
      "metadata": {
        "id": "hoE4a29OYR_Z"
      },
      "execution_count": null,
      "outputs": []
    },
    {
      "cell_type": "code",
      "source": [
        "temp, mask = explanation.get_image_and_mask(\n",
        "    explanation.top_labels[0],\n",
        "    positive_only = True,\n",
        "    num_features = 5,\n",
        "    hide_rest = True\n",
        ")\n",
        "\n",
        "plt.imshow(mark_boundaries(temp / 2+0.5, mask))\n",
        "plt.axis('off')\n",
        "plt.title('LIME Explanation')\n",
        "plt.show()"
      ],
      "metadata": {
        "id": "i0U6_EYEabFa",
        "colab": {
          "base_uri": "https://localhost:8080/",
          "height": 465
        },
        "outputId": "ab5ac18a-54a8-49dd-c040-efdb40bef2c0"
      },
      "execution_count": null,
      "outputs": [
        {
          "output_type": "stream",
          "name": "stderr",
          "text": [
            "WARNING:matplotlib.image:Clipping input data to the valid range for imshow with RGB data ([0..1] for floats or [0..255] for integers).\n"
          ]
        },
        {
          "output_type": "display_data",
          "data": {
            "text/plain": [
              "<Figure size 640x480 with 1 Axes>"
            ],
            "image/png": "[encoded data removed]"
          },
          "metadata": {}
        }
      ]
    },
    {
      "cell_type": "markdown",
      "metadata": {
        "id": "KKjxXcCVFrQm"
      },
      "source": [
        "## 6. Model Saving"
      ]
    },
    {
      "cell_type": "code",
      "execution_count": null,
      "metadata": {
        "id": "6ZyuD95LF-Z0"
      },
      "outputs": [],
      "source": [
        "model.save('/content/drive/MyDrive/Dog Breed Classification.keras')"
      ]
    },
    {
      "cell_type": "code",
      "execution_count": null,
      "metadata": {
        "id": "EP3YHG0BGQA4"
      },
      "outputs": [],
      "source": [
        "saved_model=tf.keras.models.load_model('/content/drive/MyDrive/Dog Breed Classification.keras')"
      ]
    },
    {
      "cell_type": "code",
      "execution_count": null,
      "metadata": {
        "id": "ogQPX7LRG3X8",
        "colab": {
          "base_uri": "https://localhost:8080/"
        },
        "outputId": "6d9d1e58-16d0-49c6-825f-6f3ad5657285"
      },
      "outputs": [
        {
          "output_type": "stream",
          "name": "stdout",
          "text": [
            "3/3 [==============================] - 3s 693ms/step\n"
          ]
        },
        {
          "output_type": "execute_result",
          "data": {
            "text/plain": [
              "array([[9.99989152e-01, 2.56029494e-07, 5.55787381e-07, 7.60119065e-07,\n",
              "        1.16918807e-06, 2.50125686e-06, 3.93065022e-07, 1.34808931e-06,\n",
              "        7.39575285e-07, 2.50101357e-06, 4.31808829e-08, 2.52467686e-07,\n",
              "        4.03526457e-07],\n",
              "       [9.99867320e-01, 2.53798976e-06, 5.27201837e-06, 2.97047663e-05,\n",
              "        2.68836393e-05, 1.24700928e-05, 2.87927810e-06, 2.33207666e-05,\n",
              "        1.02485556e-05, 8.88289469e-06, 1.62928120e-06, 3.81875179e-06,\n",
              "        5.14777594e-06],\n",
              "       [9.99429524e-01, 5.96254313e-06, 2.27676137e-05, 6.71425587e-05,\n",
              "        2.82627618e-04, 7.99075769e-06, 2.70193050e-06, 9.13643089e-05,\n",
              "        2.59971130e-05, 3.28810165e-05, 5.91683147e-06, 6.79402046e-06,\n",
              "        1.82771837e-05],\n",
              "       [9.99833465e-01, 5.72880208e-06, 1.48705676e-05, 8.08732002e-05,\n",
              "        2.47883127e-05, 3.95122424e-06, 1.64509438e-05, 7.01749229e-07,\n",
              "        6.23489814e-06, 2.65001586e-06, 1.01270700e-06, 1.79676920e-06,\n",
              "        7.46543492e-06],\n",
              "       [9.99702275e-01, 9.40740938e-06, 4.41817429e-05, 4.81967872e-05,\n",
              "        8.08562345e-06, 1.57832677e-04, 1.21644314e-06, 7.30880038e-06,\n",
              "        3.91197682e-06, 1.46600332e-05, 2.36600812e-07, 8.91182367e-07,\n",
              "        1.78867128e-06],\n",
              "       [1.89493076e-05, 9.99815881e-01, 5.76400998e-06, 8.65440416e-06,\n",
              "        2.32835509e-06, 2.46968011e-06, 2.47895514e-05, 7.03581281e-06,\n",
              "        4.76478235e-05, 6.82364407e-06, 7.18146157e-06, 3.59354017e-05,\n",
              "        1.65648216e-05],\n",
              "       [1.20314701e-06, 9.99974728e-01, 2.53999156e-06, 4.03799959e-06,\n",
              "        1.09174823e-06, 9.56318672e-07, 1.32408036e-06, 2.83983059e-06,\n",
              "        2.10079429e-06, 5.57480121e-07, 5.79556570e-07, 1.63963830e-06,\n",
              "        6.43762723e-06],\n",
              "       [4.83033702e-08, 9.99995828e-01, 6.27763939e-07, 7.97673962e-08,\n",
              "        6.91985065e-08, 1.32045187e-07, 6.02572072e-08, 4.26680060e-08,\n",
              "        4.61229462e-07, 8.27908622e-08, 5.83111230e-08, 2.02943124e-06,\n",
              "        4.36021622e-07],\n",
              "       [6.05215064e-07, 9.99969840e-01, 1.70538158e-06, 1.99027272e-06,\n",
              "        9.42767201e-07, 3.49636196e-07, 1.04127162e-06, 1.30174476e-06,\n",
              "        7.79951824e-06, 1.88469392e-06, 5.54965254e-07, 5.37902270e-06,\n",
              "        6.69405972e-06],\n",
              "       [9.47980243e-06, 9.99702513e-01, 2.66361349e-06, 2.09990321e-05,\n",
              "        4.10117063e-05, 4.94842971e-06, 2.17280922e-06, 6.56194106e-06,\n",
              "        1.07271999e-05, 9.78484695e-06, 1.62098036e-06, 4.44291618e-06,\n",
              "        1.82879754e-04],\n",
              "       [2.28097505e-07, 3.88309900e-08, 9.99782264e-01, 1.83252757e-06,\n",
              "        2.42145290e-07, 2.26212178e-05, 1.18725359e-06, 8.07113665e-08,\n",
              "        3.02404402e-07, 9.99534606e-08, 1.91063489e-04, 3.51987528e-09,\n",
              "        1.39545335e-07],\n",
              "       [2.84540391e-08, 1.50213830e-09, 9.99999523e-01, 1.57931908e-07,\n",
              "        2.76132206e-09, 1.46905663e-07, 1.92328180e-08, 1.06122522e-09,\n",
              "        1.24375266e-08, 2.19396434e-09, 2.36287093e-07, 9.13270778e-11,\n",
              "        6.05808781e-09],\n",
              "       [1.49505155e-04, 2.27484736e-03, 2.52016522e-02, 9.15873468e-01,\n",
              "        2.83370522e-04, 9.33728079e-05, 4.18787869e-03, 1.45552316e-04,\n",
              "        5.11470214e-02, 7.83246142e-05, 2.06393874e-04, 2.26855464e-05,\n",
              "        3.35908961e-04],\n",
              "       [4.09960012e-05, 3.38267826e-04, 2.39202991e-01, 7.52667606e-01,\n",
              "        1.74849720e-05, 5.99581217e-05, 2.58948334e-04, 2.08368383e-05,\n",
              "        7.11795595e-03, 3.93360278e-06, 4.52185996e-05, 3.81400423e-06,\n",
              "        2.21995637e-04],\n",
              "       [2.20328772e-07, 2.96853983e-07, 9.99927521e-01, 1.77361071e-05,\n",
              "        2.49278798e-07, 2.41088001e-05, 1.20636969e-07, 1.74743278e-07,\n",
              "        2.58196706e-05, 1.96806681e-07, 5.81946210e-07, 2.65615299e-08,\n",
              "        2.97153520e-06],\n",
              "       [2.38545908e-06, 3.82594544e-06, 1.78962771e-04, 9.99670386e-01,\n",
              "        1.21248322e-05, 7.65883271e-07, 2.60242941e-05, 4.06402205e-06,\n",
              "        7.74263845e-06, 3.16118275e-07, 7.03757405e-06, 3.46628212e-07,\n",
              "        8.59270731e-05],\n",
              "       [1.08040394e-05, 6.43735234e-07, 7.90032446e-01, 2.09817454e-01,\n",
              "        2.66103852e-05, 2.04979478e-05, 2.32849052e-05, 4.94403957e-06,\n",
              "        5.59371729e-05, 5.60113676e-07, 7.94197661e-07, 3.12511673e-07,\n",
              "        5.65151277e-06],\n",
              "       [2.82457268e-06, 4.88457772e-06, 4.85278833e-05, 9.99857426e-01,\n",
              "        6.48007926e-06, 1.59560571e-07, 5.65422270e-05, 4.76540720e-07,\n",
              "        7.19848799e-07, 9.79905508e-08, 1.37597908e-06, 3.15534294e-07,\n",
              "        2.01156399e-05],\n",
              "       [1.00413479e-06, 4.47621773e-07, 1.63920743e-06, 9.99991298e-01,\n",
              "        5.16174453e-07, 2.55661732e-08, 2.34444246e-06, 1.63246540e-07,\n",
              "        3.98928819e-07, 5.34481579e-08, 1.37893196e-07, 4.06487288e-08,\n",
              "        1.87218006e-06],\n",
              "       [1.87501428e-04, 1.96088258e-05, 6.97942451e-04, 9.98711586e-01,\n",
              "        1.38472278e-05, 3.04461155e-05, 6.07826623e-05, 8.86224188e-06,\n",
              "        1.96957135e-05, 3.13989926e-06, 1.05602976e-05, 2.98822670e-07,\n",
              "        2.35730302e-04],\n",
              "       [7.84535700e-07, 9.18580724e-07, 1.83776001e-06, 2.22693544e-07,\n",
              "        9.99976516e-01, 8.48041111e-07, 2.84390779e-07, 1.48451966e-06,\n",
              "        8.39557856e-07, 2.14019678e-06, 5.79567359e-06, 5.90461377e-06,\n",
              "        2.32168873e-06],\n",
              "       [2.03052878e-06, 2.97295719e-06, 9.79952802e-07, 2.32175026e-07,\n",
              "        9.99946237e-01, 8.61516401e-06, 1.21165874e-06, 3.81356108e-06,\n",
              "        3.52514462e-06, 3.36447670e-06, 5.76160119e-06, 8.01164242e-06,\n",
              "        1.32947007e-05],\n",
              "       [3.93074015e-06, 5.53178279e-06, 1.12815815e-06, 5.56113662e-07,\n",
              "        9.99941945e-01, 1.82217320e-06, 5.22804726e-07, 3.68131964e-06,\n",
              "        3.39208918e-06, 6.27999270e-06, 1.28794436e-05, 1.37093248e-05,\n",
              "        4.65204857e-06],\n",
              "       [1.28150407e-06, 2.29183797e-06, 1.37565974e-06, 5.02173123e-07,\n",
              "        9.99942899e-01, 3.37085976e-06, 2.65335848e-06, 1.28460476e-06,\n",
              "        9.72557609e-06, 8.48083437e-06, 5.27538486e-06, 3.34340666e-06,\n",
              "        1.75313526e-05],\n",
              "       [1.20828969e-04, 7.23627124e-07, 5.20687991e-07, 6.59573232e-08,\n",
              "        9.99780595e-01, 6.36797413e-05, 3.00321091e-07, 1.29460004e-05,\n",
              "        1.48561514e-06, 9.43691975e-06, 2.54629094e-06, 5.05496746e-06,\n",
              "        1.82001929e-06],\n",
              "       [2.33936498e-05, 1.36671688e-05, 1.03126840e-05, 4.44406112e-07,\n",
              "        1.10976529e-04, 9.95028317e-01, 2.80893291e-05, 1.08195163e-04,\n",
              "        3.86673264e-06, 1.51874592e-05, 1.91666950e-05, 4.62048734e-03,\n",
              "        1.78350747e-05],\n",
              "       [1.95784814e-05, 1.22775036e-05, 2.66006427e-05, 3.37870517e-07,\n",
              "        8.64816957e-06, 9.99596894e-01, 2.42184819e-06, 2.74830145e-05,\n",
              "        1.98943553e-06, 7.75643639e-06, 3.39175949e-06, 2.89282063e-04,\n",
              "        3.36415155e-06],\n",
              "       [2.05646279e-06, 1.14778811e-06, 3.34631955e-06, 1.18454167e-07,\n",
              "        4.35953353e-07, 9.99948859e-01, 3.43684235e-07, 2.97320025e-06,\n",
              "        1.75740649e-08, 1.09458176e-06, 1.95952950e-07, 3.91513859e-05,\n",
              "        1.84326353e-07],\n",
              "       [1.47686660e-05, 5.08837475e-05, 1.38736668e-05, 6.27911618e-07,\n",
              "        9.04561966e-05, 3.63943636e-01, 2.56367184e-06, 7.09119777e-05,\n",
              "        6.80439484e-07, 1.11585787e-05, 2.16495482e-05, 6.35775805e-01,\n",
              "        2.92040136e-06],\n",
              "       [2.44324337e-06, 7.57467433e-06, 7.72679778e-06, 1.20949593e-07,\n",
              "        1.25949464e-06, 9.99459207e-01, 5.60007993e-06, 2.47242292e-06,\n",
              "        2.11721229e-07, 5.59387900e-07, 1.67673295e-06, 5.10591897e-04,\n",
              "        4.29197513e-07],\n",
              "       [1.60831200e-06, 6.40499929e-05, 3.07976261e-05, 4.54220753e-06,\n",
              "        8.84694782e-06, 7.31338196e-06, 9.99653816e-01, 1.62558663e-05,\n",
              "        7.80880073e-05, 1.19831911e-05, 4.92025429e-05, 2.33438641e-05,\n",
              "        5.00895512e-05],\n",
              "       [1.01905606e-07, 3.49473066e-06, 5.91434002e-07, 7.14365029e-08,\n",
              "        5.26777740e-07, 9.22252141e-08, 9.99969006e-01, 1.85107282e-07,\n",
              "        7.08882953e-06, 4.74495755e-06, 5.39043413e-06, 2.99727412e-06,\n",
              "        5.60992476e-06],\n",
              "       [7.76293455e-05, 2.05190427e-05, 1.76001719e-04, 4.07972811e-06,\n",
              "        5.45791299e-05, 1.48444611e-03, 9.78315353e-01, 1.46707625e-03,\n",
              "        2.09789933e-03, 1.54710505e-02, 1.58529918e-04, 6.29052054e-04,\n",
              "        4.37423696e-05],\n",
              "       [1.46276061e-05, 3.37843376e-05, 4.82762378e-04, 1.41645205e-05,\n",
              "        2.75790604e-04, 1.98730369e-04, 9.94026780e-01, 9.65110492e-04,\n",
              "        3.61581129e-04, 8.13928855e-05, 5.33767161e-04, 2.86030141e-03,\n",
              "        1.51245345e-04],\n",
              "       [9.45285734e-08, 1.21538608e-06, 3.74676733e-06, 2.77439625e-07,\n",
              "        1.01571106e-06, 2.38856632e-08, 9.99945045e-01, 7.69417511e-06,\n",
              "        2.46193667e-05, 2.23507709e-06, 5.92529432e-06, 1.39108909e-06,\n",
              "        6.58233239e-06],\n",
              "       [2.22965347e-04, 3.64698266e-04, 8.07556207e-05, 3.63945699e-04,\n",
              "        2.23779309e-04, 2.91198467e-06, 7.43098033e-04, 9.94702876e-01,\n",
              "        6.94713264e-04, 7.58683891e-04, 1.18054170e-03, 4.57739370e-04,\n",
              "        2.03259842e-04],\n",
              "       [5.29883849e-03, 2.32650922e-03, 1.03291450e-02, 1.09961238e-02,\n",
              "        1.29360496e-03, 5.72006065e-05, 8.79970938e-03, 4.77639675e-01,\n",
              "        3.85169715e-01, 3.96048762e-02, 2.48240121e-02, 1.17311571e-02,\n",
              "        2.19294839e-02],\n",
              "       [1.22707948e-04, 7.01882527e-04, 5.89698757e-05, 4.39502997e-04,\n",
              "        5.79305815e-05, 3.41400005e-06, 4.01108497e-04, 9.95588064e-01,\n",
              "        1.41879194e-03, 6.28262584e-04, 3.54227610e-04, 1.83888405e-04,\n",
              "        4.11587716e-05],\n",
              "       [3.76259777e-05, 7.20546886e-05, 1.03136772e-05, 4.03509242e-04,\n",
              "        7.13457030e-06, 1.25250239e-07, 3.99000310e-05, 9.99283850e-01,\n",
              "        3.82297658e-05, 6.82230939e-06, 5.26159347e-05, 3.40910265e-05,\n",
              "        1.37504621e-05],\n",
              "       [1.95157423e-04, 1.53063986e-04, 6.50846516e-04, 2.58391094e-03,\n",
              "        1.31165507e-04, 1.58137573e-05, 7.25987949e-04, 9.93268907e-01,\n",
              "        1.85684068e-04, 1.17243850e-03, 7.45970756e-04, 1.34486443e-04,\n",
              "        3.66293898e-05],\n",
              "       [5.91774551e-07, 1.00152574e-05, 5.67322104e-06, 4.92717675e-07,\n",
              "        5.78345453e-06, 2.51203460e-06, 1.80651443e-06, 4.00513827e-08,\n",
              "        9.96121585e-01, 3.32999625e-03, 1.32640548e-06, 8.84942722e-07,\n",
              "        5.19182242e-04],\n",
              "       [9.25911024e-07, 2.33780356e-05, 3.44374967e-05, 5.56388272e-07,\n",
              "        6.63928950e-06, 2.62799040e-06, 3.02627882e-06, 1.00910988e-07,\n",
              "        9.98357952e-01, 9.79980687e-04, 2.23262782e-06, 1.38518260e-06,\n",
              "        5.86907379e-04],\n",
              "       [1.94941390e-06, 4.38000279e-06, 1.69142513e-04, 5.00264112e-04,\n",
              "        9.97358984e-06, 1.19061838e-07, 5.93765326e-05, 5.36995776e-06,\n",
              "        9.98179913e-01, 3.24624358e-04, 2.70085147e-04, 4.48406445e-06,\n",
              "        4.70323837e-04],\n",
              "       [9.81423298e-08, 4.04297361e-06, 7.32656918e-05, 1.50342844e-03,\n",
              "        3.92851553e-06, 1.82322726e-08, 7.57286034e-04, 1.98686412e-05,\n",
              "        9.97481167e-01, 7.59151544e-06, 7.82589923e-05, 9.10508902e-07,\n",
              "        7.02132238e-05],\n",
              "       [7.59463182e-06, 3.17258273e-05, 5.02154836e-03, 2.27736091e-05,\n",
              "        5.82812299e-06, 4.70007251e-07, 2.40845984e-05, 1.44211945e-05,\n",
              "        9.90870297e-01, 3.74332140e-03, 1.92238935e-04, 2.40579702e-05,\n",
              "        4.15393188e-05],\n",
              "       [2.30693786e-05, 9.47903318e-05, 1.74520852e-03, 5.00236929e-05,\n",
              "        2.12615887e-05, 1.44884939e-06, 4.43495665e-05, 4.01086654e-05,\n",
              "        9.76866066e-01, 2.03970820e-02, 3.21200729e-04, 1.31431618e-04,\n",
              "        2.63837603e-04],\n",
              "       [2.06530771e-07, 2.54658767e-06, 1.43777352e-05, 1.64156154e-05,\n",
              "        2.46004083e-06, 5.30502895e-08, 1.09689245e-05, 2.02559093e-07,\n",
              "        9.99942899e-01, 5.95956135e-06, 1.41954183e-06, 2.98090328e-07,\n",
              "        2.31321701e-06],\n",
              "       [1.57319718e-07, 5.84950067e-06, 7.35523054e-06, 2.02492247e-05,\n",
              "        1.74192144e-06, 6.68642599e-08, 1.24659800e-05, 1.62997665e-07,\n",
              "        9.99938965e-01, 4.68938879e-06, 4.47777484e-06, 1.69047794e-07,\n",
              "        3.67039570e-06],\n",
              "       [4.54429710e-07, 6.05697733e-06, 7.00834498e-05, 1.49220959e-05,\n",
              "        1.80290942e-06, 2.63958839e-07, 3.45859121e-06, 1.63976335e-08,\n",
              "        9.99831796e-01, 2.84019807e-05, 6.38972608e-07, 4.32367386e-07,\n",
              "        4.16911898e-05],\n",
              "       [2.48543394e-04, 2.00734394e-05, 2.26259162e-05, 2.80796621e-06,\n",
              "        2.57891777e-04, 1.16293595e-04, 1.72171076e-05, 3.44484215e-05,\n",
              "        3.70781665e-04, 9.98445213e-01, 5.09915008e-05, 2.19843481e-04,\n",
              "        1.93435713e-04],\n",
              "       [1.03934835e-04, 1.31343531e-05, 4.28059002e-06, 1.04423646e-06,\n",
              "        1.69326362e-04, 2.95247755e-05, 7.16247496e-06, 1.23136042e-05,\n",
              "        1.93667467e-04, 9.99328732e-01, 2.51325946e-05, 5.69288968e-05,\n",
              "        5.47745112e-05],\n",
              "       [2.55463854e-03, 8.05097443e-05, 4.50703992e-05, 1.03835155e-05,\n",
              "        2.30259975e-04, 7.50797699e-05, 8.97776801e-04, 8.71892571e-02,\n",
              "        9.36243916e-04, 9.07345831e-01, 7.70633196e-05, 3.97707918e-04,\n",
              "        1.60196272e-04],\n",
              "       [1.68844475e-04, 2.19433932e-05, 1.88381716e-06, 1.16938543e-06,\n",
              "        1.42985882e-04, 9.70816400e-05, 6.02700224e-04, 2.99308989e-02,\n",
              "        2.34562045e-04, 9.68357861e-01, 7.46981968e-05, 3.50082177e-04,\n",
              "        1.52296043e-05],\n",
              "       [1.53243877e-06, 2.66244854e-07, 3.53921195e-08, 3.50473748e-08,\n",
              "        6.82021778e-07, 3.24044805e-07, 2.73281188e-07, 7.82407255e-07,\n",
              "        4.51291498e-06, 9.99988317e-01, 3.92330293e-07, 4.76411770e-07,\n",
              "        2.41982502e-06],\n",
              "       [9.30035185e-06, 1.40866712e-06, 1.15817166e-07, 1.53595337e-07,\n",
              "        4.14152328e-06, 3.00996089e-06, 5.46687852e-06, 4.47773637e-05,\n",
              "        6.12396843e-06, 9.99904037e-01, 1.28717356e-05, 5.04294258e-06,\n",
              "        3.54530175e-06],\n",
              "       [2.10053646e-08, 4.62959626e-09, 7.79989240e-10, 8.57860172e-11,\n",
              "        3.71270730e-08, 2.70955827e-08, 1.55916204e-08, 4.63386627e-08,\n",
              "        1.47386054e-05, 9.99984503e-01, 2.14238653e-08, 1.51875383e-08,\n",
              "        6.15464103e-07],\n",
              "       [1.68298815e-08, 2.00465600e-09, 3.84114873e-09, 1.28034139e-10,\n",
              "        2.72115628e-08, 2.28196999e-08, 5.61118352e-09, 1.25070432e-09,\n",
              "        2.73847422e-06, 9.99996662e-01, 1.19275292e-08, 6.50274590e-09,\n",
              "        4.75805052e-07],\n",
              "       [6.22289735e-05, 3.12912590e-07, 1.92097059e-06, 4.61388709e-07,\n",
              "        1.22134543e-05, 1.75932291e-05, 1.96848487e-05, 5.33952107e-06,\n",
              "        1.19717888e-05, 9.99857545e-01, 8.22130914e-07, 1.14350212e-06,\n",
              "        8.77265029e-06],\n",
              "       [2.82065630e-05, 2.75313056e-07, 1.42039755e-06, 6.74446881e-08,\n",
              "        1.82621636e-06, 8.12215876e-06, 2.12189730e-06, 7.26708947e-07,\n",
              "        6.30859631e-06, 9.99949574e-01, 2.34251971e-07, 3.83827683e-07,\n",
              "        7.25033715e-07],\n",
              "       [1.32539242e-06, 2.04901539e-06, 2.18216854e-04, 3.14717028e-07,\n",
              "        6.19705770e-06, 1.75574075e-06, 9.67260348e-06, 3.99164628e-06,\n",
              "        3.67485791e-06, 2.27773376e-06, 9.99692082e-01, 5.22421979e-05,\n",
              "        6.34495427e-06],\n",
              "       [1.06777598e-07, 3.52721628e-07, 2.68055987e-06, 1.51292703e-08,\n",
              "        2.72432612e-06, 4.72879674e-06, 7.90993818e-06, 1.89813704e-06,\n",
              "        1.28190559e-05, 2.25982632e-07, 9.99953389e-01, 7.20112575e-06,\n",
              "        6.05000605e-06],\n",
              "       [9.05635716e-06, 7.37438177e-06, 1.67708480e-04, 7.83744781e-07,\n",
              "        5.80339401e-05, 3.42405183e-05, 7.93998115e-05, 1.45589365e-05,\n",
              "        4.60669980e-05, 5.28376040e-06, 9.99487758e-01, 4.32915440e-05,\n",
              "        4.65109588e-05],\n",
              "       [2.57263800e-05, 2.68623317e-05, 2.90518110e-05, 1.89774928e-05,\n",
              "        7.60868206e-05, 5.91753542e-06, 4.47314640e-04, 5.11501334e-04,\n",
              "        5.53273479e-04, 1.19483877e-04, 9.97257650e-01, 2.14558822e-04,\n",
              "        7.13678717e-04],\n",
              "       [3.10062767e-08, 4.40718324e-08, 8.52815418e-08, 4.50007454e-09,\n",
              "        2.09311040e-07, 1.44550540e-08, 3.01382761e-06, 1.56439043e-07,\n",
              "        2.60836206e-08, 1.14438808e-06, 9.99993920e-01, 2.10360838e-07,\n",
              "        1.12528005e-06],\n",
              "       [1.34791364e-07, 2.57923887e-07, 4.00681620e-06, 2.45959093e-08,\n",
              "        1.54101610e-06, 3.35516972e-07, 3.04195401e-05, 5.48465721e-07,\n",
              "        1.88631688e-07, 4.31668786e-06, 9.99951839e-01, 3.42619671e-07,\n",
              "        5.97642747e-06],\n",
              "       [1.09803404e-05, 3.93793598e-04, 8.09715948e-06, 1.89087530e-06,\n",
              "        6.30746654e-05, 1.85450613e-01, 1.35445644e-05, 2.24928408e-05,\n",
              "        7.61970432e-06, 1.04515657e-05, 2.17595789e-05, 8.13988745e-01,\n",
              "        6.94142682e-06],\n",
              "       [1.51329004e-06, 1.31522320e-04, 1.08432414e-06, 5.17776698e-07,\n",
              "        6.73440809e-06, 1.11843925e-04, 4.02082333e-06, 1.16770998e-05,\n",
              "        4.68627559e-06, 3.48385970e-06, 2.75196144e-05, 9.99690771e-01,\n",
              "        4.58126897e-06],\n",
              "       [1.09169143e-03, 1.33153409e-01, 1.25443749e-03, 3.49917565e-04,\n",
              "        8.88156146e-03, 3.38699259e-02, 7.00529013e-03, 4.15565353e-03,\n",
              "        2.75181630e-03, 8.56895298e-02, 5.90374786e-03, 7.07626998e-01,\n",
              "        8.26613232e-03],\n",
              "       [8.16021497e-07, 1.80826959e-04, 5.10829841e-06, 8.99832514e-07,\n",
              "        6.75669362e-05, 1.55712303e-04, 3.70910038e-06, 4.64231525e-05,\n",
              "        1.29475563e-06, 2.43341083e-06, 3.05785390e-04, 9.99217749e-01,\n",
              "        1.16836027e-05],\n",
              "       [4.52387849e-06, 2.74828402e-04, 5.13965369e-06, 1.24299345e-06,\n",
              "        5.15464744e-05, 1.04625338e-04, 5.19442892e-06, 9.32578114e-05,\n",
              "        9.34465061e-06, 2.24298892e-05, 6.22435473e-05, 9.99359429e-01,\n",
              "        6.21963363e-06],\n",
              "       [2.19031790e-07, 7.91391130e-07, 7.24183792e-07, 2.59862702e-07,\n",
              "        4.80525159e-07, 1.12236105e-08, 1.17710874e-06, 4.91359913e-08,\n",
              "        5.06947945e-05, 7.85564680e-06, 5.46587717e-06, 6.65952427e-07,\n",
              "        9.99931574e-01],\n",
              "       [7.48211551e-06, 3.21556968e-06, 1.26837360e-04, 2.72206555e-04,\n",
              "        1.45514832e-05, 1.71344197e-06, 3.33985547e-04, 1.80168317e-05,\n",
              "        4.30036074e-04, 1.69896612e-05, 7.22182813e-05, 1.14982240e-05,\n",
              "        9.98691261e-01],\n",
              "       [2.44500342e-07, 1.76265678e-06, 4.97482552e-06, 3.00873216e-06,\n",
              "        3.66746121e-06, 3.36614789e-08, 9.06311925e-06, 6.09548465e-07,\n",
              "        5.39370376e-06, 4.60439594e-07, 6.83675989e-06, 2.71296540e-06,\n",
              "        9.99961257e-01],\n",
              "       [2.12939631e-06, 5.15674037e-06, 7.32497801e-06, 3.06204238e-05,\n",
              "        1.46422253e-05, 9.55006954e-07, 1.04295759e-05, 7.43422675e-07,\n",
              "        2.23237803e-04, 5.36281641e-06, 1.17848531e-05, 4.87080297e-06,\n",
              "        9.99682784e-01],\n",
              "       [1.03205130e-05, 6.85932100e-05, 4.11945482e-04, 3.78459622e-03,\n",
              "        1.23966034e-04, 1.53400524e-05, 2.41585381e-04, 2.78809489e-06,\n",
              "        5.28129144e-03, 1.36498347e-04, 7.11868925e-05, 2.65220715e-05,\n",
              "        9.89825428e-01]], dtype=float32)"
            ]
          },
          "metadata": {},
          "execution_count": 37
        }
      ],
      "source": [
        "saved_model.predict(test_set)"
      ]
    }
  ],
  "metadata": {
    "accelerator": "GPU",
    "colab": {
      "provenance": [],
      "gpuType": "T4",
      "include_colab_link": true
    },
    "kernelspec": {
      "display_name": "Python 3",
      "name": "python3"
    },
    "language_info": {
      "name": "python"
    },
    "widgets": {
      "application/vnd.jupyter.widget-state+json": {
        "3847e7d6bfe347969cddd5fec9998707": {
          "model_module": "@jupyter-widgets/controls",
          "model_name": "HBoxModel",
          "model_module_version": "1.5.0",
          "state": {
            "_dom_classes": [],
            "_model_module": "@jupyter-widgets/controls",
            "_model_module_version": "1.5.0",
            "_model_name": "HBoxModel",
            "_view_count": null,
            "_view_module": "@jupyter-widgets/controls",
            "_view_module_version": "1.5.0",
            "_view_name": "HBoxView",
            "box_style": "",
            "children": [
              "IPY_MODEL_7451476f7f4d42b3a957750df2ec9abd",
              "IPY_MODEL_328a5de246a84d40af8cd837d929ef29",
              "IPY_MODEL_e939b5a963eb45fd9bd12374fba76129"
            ],
            "layout": "IPY_MODEL_622dd6f67346415b934f849b0c6fcdf3"
          }
        },
        "7451476f7f4d42b3a957750df2ec9abd": {
          "model_module": "@jupyter-widgets/controls",
          "model_name": "HTMLModel",
          "model_module_version": "1.5.0",
          "state": {
            "_dom_classes": [],
            "_model_module": "@jupyter-widgets/controls",
            "_model_module_version": "1.5.0",
            "_model_name": "HTMLModel",
            "_view_count": null,
            "_view_module": "@jupyter-widgets/controls",
            "_view_module_version": "1.5.0",
            "_view_name": "HTMLView",
            "description": "",
            "description_tooltip": null,
            "layout": "IPY_MODEL_1f6be5a6c24d403a888b920d67ce8d0e",
            "placeholder": "​",
            "style": "IPY_MODEL_2f980b65a0124ca69a1974d7857e7af0",
            "value": "100%"
          }
        },
        "328a5de246a84d40af8cd837d929ef29": {
          "model_module": "@jupyter-widgets/controls",
          "model_name": "FloatProgressModel",
          "model_module_version": "1.5.0",
          "state": {
            "_dom_classes": [],
            "_model_module": "@jupyter-widgets/controls",
            "_model_module_version": "1.5.0",
            "_model_name": "FloatProgressModel",
            "_view_count": null,
            "_view_module": "@jupyter-widgets/controls",
            "_view_module_version": "1.5.0",
            "_view_name": "ProgressView",
            "bar_style": "success",
            "description": "",
            "description_tooltip": null,
            "layout": "IPY_MODEL_fb6372dd49b14a07bd35e8556c11d5bc",
            "max": 100,
            "min": 0,
            "orientation": "horizontal",
            "style": "IPY_MODEL_dbe9eaca1d6744b1b084d9e59860c5ac",
            "value": 100
          }
        },
        "e939b5a963eb45fd9bd12374fba76129": {
          "model_module": "@jupyter-widgets/controls",
          "model_name": "HTMLModel",
          "model_module_version": "1.5.0",
          "state": {
            "_dom_classes": [],
            "_model_module": "@jupyter-widgets/controls",
            "_model_module_version": "1.5.0",
            "_model_name": "HTMLModel",
            "_view_count": null,
            "_view_module": "@jupyter-widgets/controls",
            "_view_module_version": "1.5.0",
            "_view_name": "HTMLView",
            "description": "",
            "description_tooltip": null,
            "layout": "IPY_MODEL_6bd32e2c26254c7e9d40dae09860538f",
            "placeholder": "​",
            "style": "IPY_MODEL_454e7384dc3d41a7b52c3f7c41f6b18b",
            "value": " 100/100 [00:03&lt;00:00, 75.84it/s]"
          }
        },
        "622dd6f67346415b934f849b0c6fcdf3": {
          "model_module": "@jupyter-widgets/base",
          "model_name": "LayoutModel",
          "model_module_version": "1.2.0",
          "state": {
            "_model_module": "@jupyter-widgets/base",
            "_model_module_version": "1.2.0",
            "_model_name": "LayoutModel",
            "_view_count": null,
            "_view_module": "@jupyter-widgets/base",
            "_view_module_version": "1.2.0",
            "_view_name": "LayoutView",
            "align_content": null,
            "align_items": null,
            "align_self": null,
            "border": null,
            "bottom": null,
            "display": null,
            "flex": null,
            "flex_flow": null,
            "grid_area": null,
            "grid_auto_columns": null,
            "grid_auto_flow": null,
            "grid_auto_rows": null,
            "grid_column": null,
            "grid_gap": null,
            "grid_row": null,
            "grid_template_areas": null,
            "grid_template_columns": null,
            "grid_template_rows": null,
            "height": null,
            "justify_content": null,
            "justify_items": null,
            "left": null,
            "margin": null,
            "max_height": null,
            "max_width": null,
            "min_height": null,
            "min_width": null,
            "object_fit": null,
            "object_position": null,
            "order": null,
            "overflow": null,
            "overflow_x": null,
            "overflow_y": null,
            "padding": null,
            "right": null,
            "top": null,
            "visibility": null,
            "width": null
          }
        },
        "1f6be5a6c24d403a888b920d67ce8d0e": {
          "model_module": "@jupyter-widgets/base",
          "model_name": "LayoutModel",
          "model_module_version": "1.2.0",
          "state": {
            "_model_module": "@jupyter-widgets/base",
            "_model_module_version": "1.2.0",
            "_model_name": "LayoutModel",
            "_view_count": null,
            "_view_module": "@jupyter-widgets/base",
            "_view_module_version": "1.2.0",
            "_view_name": "LayoutView",
            "align_content": null,
            "align_items": null,
            "align_self": null,
            "border": null,
            "bottom": null,
            "display": null,
            "flex": null,
            "flex_flow": null,
            "grid_area": null,
            "grid_auto_columns": null,
            "grid_auto_flow": null,
            "grid_auto_rows": null,
            "grid_column": null,
            "grid_gap": null,
            "grid_row": null,
            "grid_template_areas": null,
            "grid_template_columns": null,
            "grid_template_rows": null,
            "height": null,
            "justify_content": null,
            "justify_items": null,
            "left": null,
            "margin": null,
            "max_height": null,
            "max_width": null,
            "min_height": null,
            "min_width": null,
            "object_fit": null,
            "object_position": null,
            "order": null,
            "overflow": null,
            "overflow_x": null,
            "overflow_y": null,
            "padding": null,
            "right": null,
            "top": null,
            "visibility": null,
            "width": null
          }
        },
        "2f980b65a0124ca69a1974d7857e7af0": {
          "model_module": "@jupyter-widgets/controls",
          "model_name": "DescriptionStyleModel",
          "model_module_version": "1.5.0",
          "state": {
            "_model_module": "@jupyter-widgets/controls",
            "_model_module_version": "1.5.0",
            "_model_name": "DescriptionStyleModel",
            "_view_count": null,
            "_view_module": "@jupyter-widgets/base",
            "_view_module_version": "1.2.0",
            "_view_name": "StyleView",
            "description_width": ""
          }
        },
        "fb6372dd49b14a07bd35e8556c11d5bc": {
          "model_module": "@jupyter-widgets/base",
          "model_name": "LayoutModel",
          "model_module_version": "1.2.0",
          "state": {
            "_model_module": "@jupyter-widgets/base",
            "_model_module_version": "1.2.0",
            "_model_name": "LayoutModel",
            "_view_count": null,
            "_view_module": "@jupyter-widgets/base",
            "_view_module_version": "1.2.0",
            "_view_name": "LayoutView",
            "align_content": null,
            "align_items": null,
            "align_self": null,
            "border": null,
            "bottom": null,
            "display": null,
            "flex": null,
            "flex_flow": null,
            "grid_area": null,
            "grid_auto_columns": null,
            "grid_auto_flow": null,
            "grid_auto_rows": null,
            "grid_column": null,
            "grid_gap": null,
            "grid_row": null,
            "grid_template_areas": null,
            "grid_template_columns": null,
            "grid_template_rows": null,
            "height": null,
            "justify_content": null,
            "justify_items": null,
            "left": null,
            "margin": null,
            "max_height": null,
            "max_width": null,
            "min_height": null,
            "min_width": null,
            "object_fit": null,
            "object_position": null,
            "order": null,
            "overflow": null,
            "overflow_x": null,
            "overflow_y": null,
            "padding": null,
            "right": null,
            "top": null,
            "visibility": null,
            "width": null
          }
        },
        "dbe9eaca1d6744b1b084d9e59860c5ac": {
          "model_module": "@jupyter-widgets/controls",
          "model_name": "ProgressStyleModel",
          "model_module_version": "1.5.0",
          "state": {
            "_model_module": "@jupyter-widgets/controls",
            "_model_module_version": "1.5.0",
            "_model_name": "ProgressStyleModel",
            "_view_count": null,
            "_view_module": "@jupyter-widgets/base",
            "_view_module_version": "1.2.0",
            "_view_name": "StyleView",
            "bar_color": null,
            "description_width": ""
          }
        },
        "6bd32e2c26254c7e9d40dae09860538f": {
          "model_module": "@jupyter-widgets/base",
          "model_name": "LayoutModel",
          "model_module_version": "1.2.0",
          "state": {
            "_model_module": "@jupyter-widgets/base",
            "_model_module_version": "1.2.0",
            "_model_name": "LayoutModel",
            "_view_count": null,
            "_view_module": "@jupyter-widgets/base",
            "_view_module_version": "1.2.0",
            "_view_name": "LayoutView",
            "align_content": null,
            "align_items": null,
            "align_self": null,
            "border": null,
            "bottom": null,
            "display": null,
            "flex": null,
            "flex_flow": null,
            "grid_area": null,
            "grid_auto_columns": null,
            "grid_auto_flow": null,
            "grid_auto_rows": null,
            "grid_column": null,
            "grid_gap": null,
            "grid_row": null,
            "grid_template_areas": null,
            "grid_template_columns": null,
            "grid_template_rows": null,
            "height": null,
            "justify_content": null,
            "justify_items": null,
            "left": null,
            "margin": null,
            "max_height": null,
            "max_width": null,
            "min_height": null,
            "min_width": null,
            "object_fit": null,
            "object_position": null,
            "order": null,
            "overflow": null,
            "overflow_x": null,
            "overflow_y": null,
            "padding": null,
            "right": null,
            "top": null,
            "visibility": null,
            "width": null
          }
        },
        "454e7384dc3d41a7b52c3f7c41f6b18b": {
          "model_module": "@jupyter-widgets/controls",
          "model_name": "DescriptionStyleModel",
          "model_module_version": "1.5.0",
          "state": {
            "_model_module": "@jupyter-widgets/controls",
            "_model_module_version": "1.5.0",
            "_model_name": "DescriptionStyleModel",
            "_view_count": null,
            "_view_module": "@jupyter-widgets/base",
            "_view_module_version": "1.2.0",
            "_view_name": "StyleView",
            "description_width": ""
          }
        }
      }
    }
  },
  "nbformat": 4,
  "nbformat_minor": 0
}